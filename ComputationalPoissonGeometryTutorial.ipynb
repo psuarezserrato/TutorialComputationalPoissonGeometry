{
  "nbformat": 4,
  "nbformat_minor": 0,
  "metadata": {
    "colab": {
      "private_outputs": true,
      "provenance": [],
      "include_colab_link": true
    },
    "kernelspec": {
      "name": "python3",
      "display_name": "Python 3"
    }
  },
  "cells": [
    {
      "cell_type": "markdown",
      "metadata": {
        "id": "view-in-github",
        "colab_type": "text"
      },
      "source": [
        "<a href=\"https://colab.research.google.com/github/psuarezserrato/TutorialComputationalPoissonGeometry/blob/main/ComputationalPoissonGeometryTutorial.ipynb\" target=\"_parent\"><img src=\"https://colab.research.google.com/assets/colab-badge.svg\" alt=\"Open In Colab\"/></a>"
      ]
    },
    {
      "cell_type": "markdown",
      "metadata": {
        "id": "H0wjLts7heTu"
      },
      "source": [
        "# **`PoissonGeometry Modules`**"
      ]
    },
    {
      "cell_type": "markdown",
      "metadata": {
        "id": "tZWiq2OHhwn8"
      },
      "source": [
        "## **Downloading from PyPi**\n",
        "\n",
        "Run the following:"
      ]
    },
    {
      "cell_type": "code",
      "metadata": {
        "id": "Dkj4pbAXhUz7",
        "collapsed": true
      },
      "source": [
        "!pip install poissongeometry numericalpoissongeometry"
      ],
      "execution_count": null,
      "outputs": []
    },
    {
      "cell_type": "markdown",
      "source": [
        "The source code of our modules can be accessed at the following repos [PoissonGeometry](https://github.com/appliedgeometry/poissongeometry) and [NumericalPoissonGeometry](https://github.com/appliedgeometry/NumericalPoissonGeometry)."
      ],
      "metadata": {
        "id": "bylxiRHw8cjn"
      }
    },
    {
      "cell_type": "markdown",
      "metadata": {
        "id": "3N56zlayp0Fx"
      },
      "source": [
        "## **Preparing the Environment to Work with `PoissonGeometry`**"
      ]
    },
    {
      "cell_type": "markdown",
      "metadata": {
        "id": "saL1uA-cmGtx"
      },
      "source": [
        "### Obtaining $\\LaTeX$ format\n",
        "\n",
        "With this code you can print the results of certain functions in `PoissonGeometry` with $\\LaTeX$ typography:"
      ]
    },
    {
      "cell_type": "code",
      "metadata": {
        "id": "jWXPp10XmGEs"
      },
      "source": [
        "import sympy\n",
        "def custom_latex_printer(exp, **options):\n",
        "    from google.colab.output._publish import javascript\n",
        "    url = \"https://cdnjs.cloudflare.com/ajax/libs/mathjax/2.7.3/latest.js?config=default\"\n",
        "    javascript(url=url)\n",
        "    return sympy.printing.latex(exp, **options)\n",
        "sympy.init_printing(use_latex=\"mathjax\", latex_printer=custom_latex_printer)"
      ],
      "execution_count": null,
      "outputs": []
    },
    {
      "cell_type": "markdown",
      "metadata": {
        "id": "Ka25VHNeMJX0"
      },
      "source": [
        "### $\\LaTeX$ code\n",
        "\n",
        "* To print the result of a function in $\\LaTeX$ code we just need to add the flag `latex=True`, whose default value is `False`:\n",
        "\n",
        "        function_name(param_1, ..., param_n, latex=True)"
      ]
    },
    {
      "cell_type": "markdown",
      "metadata": {
        "id": "0tPr4gCJFkmC"
      },
      "source": [
        "### PoissonGeometry Syntax  "
      ]
    },
    {
      "cell_type": "markdown",
      "metadata": {
        "id": "N2jx6-lyFqNA"
      },
      "source": [
        "* A scalar function in `PoissonGeometry` is written using *[string literal expressions](https://en.wikipedia.org/wiki/String_literal)*.\n",
        "\n",
        "    For example, the function $f:\\mathbb{R}^{3} \\to \\mathbb{R}$ given by\n",
        "    \n",
        "    $$f(x_1,x_2,x_3) = ax_1^2 + bx_2^2 + cx_3^2, \\quad a,b,c \\in \\mathbb{R}$$\n",
        "    \n",
        "    must be written exactly as follows:\n",
        "```\n",
        "\"a*x1**2 + b*x2**2 + c*x3**2\"\n",
        "```\n",
        "Here, `x1, x2, x3` are symbolic variables that `PoissonGeometry` defines by default and that here represent the coordinates $(x_1,x_2,x_3)$.\n",
        "\n",
        "    **Remark.** All characters that are not local coordinates are treated as (symbolic) parameters: for example `a`, `b`, `c` above.\n",
        "\n",
        "    **Note.** Python supports the following basic operations:\n",
        "\n",
        "| Expression | Description  || Expression | Description    |\n",
        "| :--------: | ------------ || :--------: | -------------- |\n",
        "| +          | Addition     || *          | Multiplication |\n",
        "| -          | Substraction || **         | Power |\n",
        "| /          | Division     ||\n",
        "\n",
        "* A multivector field (or a differential form) in `Poisson Geometry` is written using *dictionaries* with *tuples of integers* as **keys** and *string* type **values**.\n",
        "\n",
        "    For example, in $\\mathbb{R}^{3}$:\n",
        "    * The vector field $x_1\\frac{\\partial}{\\partial x_1} + x_2\\frac{\\partial}{\\partial x_2} + x_3 \\frac{\\partial}{\\partial x_3}$ should be written as \\\\\n",
        "```{(1,):'x1', (2,):'x2', (3,):'x3'}```\n",
        "        \n",
        "        **Note:** Commas on keys are important!\n",
        "\n",
        "    * The bivector field $x_1\\frac{\\partial}{\\partial x_1}\\wedge \\frac{\\partial}{\\partial x_2} - x_2\\frac{\\partial}{\\partial x_1}\\wedge \\frac{\\partial}{\\partial x_3} + x_3 \\frac{\\partial}{\\partial x_2}\\wedge \\frac{\\partial}{\\partial x_3}$ should be written as \\\\\n",
        "```{(1,2):'x1', (1,3):'-x2', (2,3):'x3'}```\n",
        "\n",
        "    * The 3-multivector field $x_1\\frac{\\partial}{\\partial x_1}\\wedge \\frac{\\partial}{\\partial x_2}\\wedge \\frac{\\partial}{\\partial x_3}$ should be written as \\\\\n",
        "```{(1,2,3):'x1'}```\n",
        "\n",
        "**Remarks:**\n",
        "1. In `Python`, a variable \\\\\n",
        "```{key_1: value_1, ..., key_n: value_n}``` \\\\\n",
        "it is called a 'dictionary'. Each `key_1,...,key_n` is called a *key* of the dictionary and each `value_1,...,value_n` is called the *value* of the corresponding key.\n",
        "\n",
        "2. In our case, each key is a `tuple` and each value a `string` type variable.\n",
        "\n",
        "    When we have a multivector $A$ of degree $a$ on $\\mathbb{R}^{m}$ $$A = \\sum_{1 \\leq i_1 < i_2 < \\cdots < i_a \\leq m} A^{i_1 i_2 \\cdots i_a}\\,\\frac{\\partial}{\\partial{x_{i_1}}} \\wedge \\frac{\\partial}{\\partial{x_{i_2}}} \\wedge \\cdots \\wedge \\frac{\\partial}{\\partial{x_{i_a}}},$$ \\\\\n",
        "\n",
        "    the keys of the dictionary are tuples $(i_1,i_2,\\ldots,i_a)$ corresponding to the ordered indices $i_1 i_2 \\cdots i_a$ of $A^{i_1 i_2 \\cdots i_a}$ and the values the corresponding string expression of the coefficient (scalar function) $A^{i_1 i_2 \\cdots i_a}$.\n",
        "\n",
        "    **Note.** We can only write the keys and values of *non-zero coefficients*.\n",
        "\n",
        "3. We can change the order of the indices in each `tuple` adding the minus sign in the corresponding `string` value.\n",
        "\n",
        "    For example,\n",
        "    \n",
        "    * The bivector field $x_1\\frac{\\partial}{\\partial x_1}\\wedge \\frac{\\partial}{\\partial x_2}$ can be written as \\\\\n",
        "    ```{(1,2): 'x1'}```\n",
        "    \n",
        "        or as\n",
        "\n",
        "        ```{(2,1): '-x1'}```\n",
        "\n",
        "     where this last dictionary corresponds to the bivector field $-x_1\\frac{\\partial}{\\partial x_2}\\wedge \\frac{\\partial}{\\partial x_1}$.\n",
        "\n",
        "     **Note.** Although we have the option of disregarding the index order, we recommend not doing so, to avoid possible computation errors.\n",
        "\n",
        "4. The syntax for differential forms is the same as for multivectors.\n",
        "\n",
        "    For example, the differential 2-form on $\\mathbb{R}^4$ $$-\\mathrm{d}x_{1} \\wedge \\mathrm{d}x_{2} - (x_1 + x_4)\\mathrm{d}x_{3} \\wedge \\mathrm{d}x_{4}$$ is written as \\\\\n",
        "```{(1,2):'-1', (3,4): '-(x1 + x4)'}```\n",
        " This assignment is given because in `SymPy` it's not possible to define variables $\\frac{\\partial}{\\partial x_{i}}$ or $\\mathrm{d}x_{i}$."
      ]
    },
    {
      "cell_type": "markdown",
      "metadata": {
        "id": "j7vZLP4iOdf_"
      },
      "source": [
        "## **Testing the `PoissonGeometry` and `NumericalPoissonGeometry` Classes**"
      ]
    },
    {
      "cell_type": "markdown",
      "metadata": {
        "id": "s8JOrz0sQxfq"
      },
      "source": [
        "### Instantiating and knowing the classes"
      ]
    },
    {
      "cell_type": "markdown",
      "metadata": {
        "id": "iAFs1yNpOvBs"
      },
      "source": [
        "First, it is necessary to define the class. For this, we must tell to `PoissonGeometry` the dimension and the symbolic variable that names the coordinates.\n",
        "\n",
        "For example, if we want to work in dimension 4, and use the default $x$ to name the coordinates, do the following:"
      ]
    },
    {
      "cell_type": "code",
      "metadata": {
        "id": "qJOBzQH09x6X"
      },
      "source": [
        "# We import the class and give it a short name for simplicity.\n",
        "from poisson.poisson import PoissonGeometry as pg\n",
        "from numpoisson.numpoisson import NumPoissonGeometry as npg\n",
        "\n",
        "# We declare the variables and the dimension\n",
        "pg4 = pg(4, variable=\"x\")\n",
        "npg4 = npg(4, variable=\"x\")"
      ],
      "execution_count": null,
      "outputs": []
    },
    {
      "cell_type": "markdown",
      "metadata": {
        "id": "Qkd46_00S1fe"
      },
      "source": [
        "**Remark:** By default, `variable`=`\"x\"`."
      ]
    },
    {
      "cell_type": "markdown",
      "metadata": {
        "id": "Adts-lW9Qa93"
      },
      "source": [
        "To know the dimension in which we are working write:\n",
        "\n",
        "\n",
        "\n"
      ]
    },
    {
      "cell_type": "code",
      "metadata": {
        "id": "xkc5gi5YQtqy"
      },
      "source": [
        "pg4.dim"
      ],
      "execution_count": null,
      "outputs": []
    },
    {
      "cell_type": "markdown",
      "metadata": {
        "id": "Vjo2abh-RWYj"
      },
      "source": [
        "To know the (current) coordinates write:"
      ]
    },
    {
      "cell_type": "code",
      "metadata": {
        "id": "9yX4IWOIReHy"
      },
      "source": [
        "pg4.coordinates"
      ],
      "execution_count": null,
      "outputs": []
    },
    {
      "cell_type": "markdown",
      "source": [
        "To know avariable backends (Pytroch or Tensorflow)\n"
      ],
      "metadata": {
        "id": "XI1Z5b0d1Cn0"
      }
    },
    {
      "cell_type": "code",
      "source": [
        "npg4.backends.get_backends_info()"
      ],
      "metadata": {
        "id": "rw2WFDwQ1Mtp"
      },
      "execution_count": null,
      "outputs": []
    },
    {
      "cell_type": "markdown",
      "source": [
        "## Creation of Point Clouds for Evaluation"
      ],
      "metadata": {
        "id": "TDvnTXEhxsBe"
      }
    },
    {
      "cell_type": "markdown",
      "source": [
        "We'll first create point clouds, on which we'll evaluate our functions, using numpy arrays:"
      ],
      "metadata": {
        "id": "PQE21fXHxuBq"
      }
    },
    {
      "cell_type": "code",
      "source": [
        "import numpy\n",
        "\n",
        "M = numpy.random.rand(10**4, 4)\n",
        "\n",
        "# Show the point cloud as an array\n",
        "M"
      ],
      "metadata": {
        "id": "bL80gcodxxvT",
        "collapsed": true
      },
      "execution_count": null,
      "outputs": []
    },
    {
      "cell_type": "markdown",
      "metadata": {
        "id": "_L8DKsEoU1Ae"
      },
      "source": [
        "## **`PoissonGeometry Tutorial`**"
      ]
    },
    {
      "cell_type": "markdown",
      "source": [
        "### Example 1: Computing the matrix of a bivector field"
      ],
      "metadata": {
        "id": "E5_f6aWI8X7A"
      }
    },
    {
      "cell_type": "markdown",
      "metadata": {
        "id": "9iovnol2pfpA"
      },
      "source": [
        "Consider the following bivector field on $\\mathbb{R}^4$, (it appears in the construction of generically rank-2 Poisson structures on a smooth $4$-manifold),\n",
        "\n",
        "$$\\Pi = x_3\\frac{\\partial}{\\partial x_1}\\wedge \\frac{\\partial}{\\partial x_2} - x_2\\frac{\\partial}{\\partial x_1}\\wedge \\frac{\\partial}{\\partial x_3} + x_1 \\frac{\\partial}{\\partial x_2}\\wedge \\frac{\\partial}{\\partial x_3},$$\n",
        "\n",
        "It's associated matrix can be computed as follows:"
      ]
    },
    {
      "cell_type": "markdown",
      "source": [
        "`bivector_to_matrix`: Computes the matrix of a bivector field"
      ],
      "metadata": {
        "id": "eEPqVVkpCr6G"
      }
    },
    {
      "cell_type": "code",
      "metadata": {
        "id": "iJwfSpqffzTf",
        "collapsed": true
      },
      "source": [
        "from poisson.poisson import PoissonGeometry\n",
        "pg4 = PoissonGeometry(4)\n",
        "\n",
        "# Enter the bivector field\n",
        "bivector = {(1,2): 'x3', (1,3): '-x2', (2,3): 'x1'}\n",
        "\n",
        "pg4.bivector_to_matrix(bivector)"
      ],
      "execution_count": null,
      "outputs": []
    },
    {
      "cell_type": "markdown",
      "metadata": {
        "id": "pIDMJOQIXUaZ"
      },
      "source": [
        "\n",
        "**Remember.** If we want the $\\LaTeX$ code of the previous matrix we just need to add the flag `latex=True`, whose default value is `False`:"
      ]
    },
    {
      "cell_type": "code",
      "metadata": {
        "id": "vLbRu_yEXuLy",
        "collapsed": true
      },
      "source": [
        "print(pg4.bivector_to_matrix(bivector, latex=True))"
      ],
      "execution_count": null,
      "outputs": []
    },
    {
      "cell_type": "markdown",
      "metadata": {
        "id": "0qo2VEonRmG0"
      },
      "source": [
        "* Using the `latex` flag you can just copy and paste the result into a `.tex` file."
      ]
    },
    {
      "cell_type": "markdown",
      "source": [
        "Evaluating a bivector $\\pi$ on a point cloud $M$:"
      ],
      "metadata": {
        "id": "co5YorSNydTI"
      }
    },
    {
      "cell_type": "markdown",
      "source": [
        "`num_bivector`: Evaluates the matrix associated with a bivector field on a point cloud\n"
      ],
      "metadata": {
        "id": "iLdq_PH2C3_r"
      }
    },
    {
      "cell_type": "code",
      "source": [
        "from numpoisson.numpoisson import NumPoissonGeometry as npg\n",
        "npg4 = npg(4)\n",
        "\n",
        "npg4.num_bivector(bivector, M)"
      ],
      "metadata": {
        "id": "pnTfkYqMyXPx"
      },
      "execution_count": null,
      "outputs": []
    },
    {
      "cell_type": "markdown",
      "source": [
        "We can add the flag `torch_output`, `tf_output`, or `dict_output` equal to `True` to get an array in these formats.\n",
        "\n",
        "The default output is a `numpy` array."
      ],
      "metadata": {
        "id": "zo-233UqzDdZ"
      }
    },
    {
      "cell_type": "markdown",
      "source": [
        "Using the the `is_poisson_bivector` *test-type* function we may verify if $\\Pi$ is a Poisson bivector.\n",
        "\n",
        "`is_poisson_bivector`: Verifies if a given bivector field is a Poisson bivector field, or not."
      ],
      "metadata": {
        "id": "5Prw_gOH3rq5"
      }
    },
    {
      "cell_type": "code",
      "metadata": {
        "id": "MbMNvOWc3hES"
      },
      "source": [
        "pg4.is_poisson_bivector(bivector)"
      ],
      "execution_count": null,
      "outputs": []
    },
    {
      "cell_type": "markdown",
      "source": [
        "**Remark.**\n",
        "The implementations of the `test-type` methods (except `isomorphic_lie_poisson`) require checking whether a symbolic expression is zero. These are naturally limited by computationally theoretical constraints."
      ],
      "metadata": {
        "id": "XLB9iDo_4fuU"
      }
    },
    {
      "cell_type": "markdown",
      "source": [
        "Consider the following functions:\n",
        "\n",
        "$f = x_1\\\\\n",
        " h = x_2$"
      ],
      "metadata": {
        "id": "GNq1NDk55gl_"
      }
    },
    {
      "cell_type": "code",
      "source": [
        "f = \"x1\"\n",
        "h = \"x2\""
      ],
      "metadata": {
        "id": "8kLmGPRo6cTZ"
      },
      "execution_count": null,
      "outputs": []
    },
    {
      "cell_type": "markdown",
      "source": [
        "We can compute the Poisson bracket $\\{f, h\\}_{\\Pi}$ as follows:"
      ],
      "metadata": {
        "id": "eISVKrVd7FMF"
      }
    },
    {
      "cell_type": "markdown",
      "source": [
        "`is_poisson_bivector`: verifies if a given bivector field is a Poisson bivector field or not"
      ],
      "metadata": {
        "id": "suGl3V-UDjDt"
      }
    },
    {
      "cell_type": "code",
      "source": [
        "f_h = pg4.poisson_bracket(bivector, f, h)\n",
        "print(f'{{f, h}} = {f_h}')"
      ],
      "metadata": {
        "id": "CpRFqk9S7Nbb"
      },
      "execution_count": null,
      "outputs": []
    },
    {
      "cell_type": "markdown",
      "source": [
        "We can also obtain the result in $\\LaTeX$ format, to include it in a manuscript"
      ],
      "metadata": {
        "id": "bH7qkvQJ7thN"
      }
    },
    {
      "cell_type": "code",
      "source": [
        "pg4.poisson_bracket(bivector, f, h, latex=True)"
      ],
      "metadata": {
        "id": "LWwmvq9k7s2H",
        "collapsed": true
      },
      "execution_count": null,
      "outputs": []
    },
    {
      "cell_type": "markdown",
      "metadata": {
        "id": "SaU4FV__J5Mi"
      },
      "source": [
        "### Example 2: Casimirs and Lie-Poisson structures"
      ]
    },
    {
      "cell_type": "markdown",
      "metadata": {
        "id": "ea6CMNShOXXP"
      },
      "source": [
        "Consider the Lie-Poisson bivector field on $\\mathbb{R}^{3}$,\n",
        "\n",
        "$$\\Pi = -x_3\\frac{\\partial}{\\partial x_1}\\wedge \\frac{\\partial}{\\partial x_2} - x_2\\frac{\\partial}{\\partial x_1}\\wedge \\frac{\\partial}{\\partial x_3} + x_1 \\frac{\\partial}{\\partial x_2}\\wedge \\frac{\\partial}{\\partial x_3},$$\n",
        "\n",
        "associated to the Lie algebra $\\mathfrak{sl}(2)$, and a Casimir function $K$ of $\\Pi$ given by\n",
        "\n",
        "$$K = x_{1}^{2} + x_{2}^{2} - x_{3}^{2}:$$\n"
      ]
    },
    {
      "cell_type": "markdown",
      "source": [
        "`is_casimir`:  Given a Poisson bivector field $\\pi$, verify whether a scalar function is a Casimir function.\n"
      ],
      "metadata": {
        "id": "eDZL79KRBQNd"
      }
    },
    {
      "cell_type": "code",
      "metadata": {
        "id": "xIWp4qIlP24c"
      },
      "source": [
        "from poisson.poisson import PoissonGeometry\n",
        "pg3 = PoissonGeometry(3)\n",
        "\n",
        "bivector = {(1,2): '-x3', (1,3): '-x2', (2,3): 'x1'}\n",
        "K = 'x1**2 + x2**2 - x3**2'\n",
        "pg3.is_casimir(bivector, K)"
      ],
      "execution_count": null,
      "outputs": []
    },
    {
      "cell_type": "markdown",
      "metadata": {
        "id": "jjlQMY98Rre4"
      },
      "source": [
        "This verifies that $K$ is in fact a Casimir function of $\\Pi$.\n",
        "\n",
        "\n",
        " Now let's consider the function $f:\\mathbb{R}\\to\\mathbb{R}$ defined by:\n",
        "$$\n",
        "f(t) := \\left\\{\n",
        "            \\begin{array}{ll}\n",
        "              e^{-\\frac{1}{t^2}} & \\hbox{if} \\quad t>0, \\\\\n",
        "              0 & \\hbox{otherwise}\n",
        "            \\end{array}\n",
        "          \\right.\n",
        "$$\n",
        "\n",
        "Let's define a smooth function $F$ by $F:=f\\circ K$.\n",
        "\n",
        "Then, the vector field\n",
        "$$ W := \\frac{x_1 F}{x_1^2 + x_2^2}\\,\\frac{\\partial}{\\partial{x_1}} \\,+\\, \\frac{x_1 F}{x_2^2 + x_2^2} \\frac{\\partial}{\\partial{x_2}}$$\n",
        "\n",
        "is a Poisson vector field of $\\Pi$.\n",
        "\n",
        "Let's verify this."
      ]
    },
    {
      "cell_type": "markdown",
      "source": [
        "`is_poisson_vf`: given a Poisson bivector field $\\pi$, verifies whether\n",
        "a vector field is a Poisson vector field for $\\pi$ or not."
      ],
      "metadata": {
        "id": "98o-EU4XCDLt"
      }
    },
    {
      "cell_type": "code",
      "metadata": {
        "id": "afmntnHtUcTx"
      },
      "source": [
        "W = {(1,): 'x1*exp(-1/(x1**2 + x2**2 - x3**2)**2)/(x1**2 + x2**2)', (2,): 'x2*exp(-1/(x1**2 + x2**2 - x3**2)**2)/(x1**2 + x2**2)'}\n",
        "pg3.is_poisson_vf(bivector, W)"
      ],
      "execution_count": null,
      "outputs": []
    },
    {
      "cell_type": "markdown",
      "metadata": {
        "id": "BxlustD4XEO8"
      },
      "source": [
        "Notice that  $W$ **IS NOT** a **Hamiltonian** field of $\\Pi$ (See N. Nakanishi, *On the Structure of Infinitesimal Automorphisms of Linear Poisson Manifolds I*, J. Math. Kyoto Univ. 31, 71-82 (1991))."
      ]
    },
    {
      "cell_type": "markdown",
      "metadata": {
        "id": "IbRU3kMvbiD7"
      },
      "source": [
        "###Example 3 : Computing Hamiltonian vector fields\n",
        "\n"
      ]
    },
    {
      "cell_type": "markdown",
      "metadata": {
        "id": "125DR5msb6Rb"
      },
      "source": [
        "\n",
        "Let's now look at a vector field appearing in a Hamiltonian system of a particular case of the *three body problem* (See P. G. Breen, C. N. Foley, T. Boekholt, S. P. Zwart, [*Newton vs the Machine: Solving the Chaotic Three-Body Problem Using Deep Neural Networks*](https://academic.oup.com/mnras/article/494/2/2465/5823775), arXiv:[1910.07291](https://arxiv.org/pdf/1910.07291)).  \n",
        "\n",
        "\n",
        "For example, consider the Poisson bivector field on $\\mathbb{R}^{6}$,\n",
        "$$\\Pi = \\frac{\\partial}{\\partial x_1}\\wedge \\frac{\\partial}{\\partial x_4} + \\frac{\\partial}{\\partial x_2}\\wedge \\frac{\\partial}{\\partial x_5} + \\frac{\\partial}{\\partial x_3}\\wedge \\frac{\\partial}{\\partial x_6},$$ and the function\n",
        "$$h = -\\frac{1}{|x_{2}-x_{1}|}-\\frac{1}{|x_{3}-x_{1}|}-\\frac{1}{|x_{3}-x_{2}|} +\\frac{1}{2} (x_{4}^{2} + x_{5}^{2} + x_{6}^{2}).$$\n",
        "\n",
        "The Hamiltonian vector field $X_{h}$, of the function $h$ with respect to the bivector $\\Pi$ is given by\n",
        "\\begin{align}\n",
        "    X_{h} &= - x_4\\frac{\\partial}{\\partial{x_1}}- x_5\\frac{\\partial}{\\partial{x_2}} - x_6\\frac{\\partial}{\\partial{x_3}} + \\left[ \\frac{1}{(x_1-x_3)|x_1-x_3|} + \\frac{1}{(x_1-x_2)|x_1-x_2|} \\right]\\frac{\\partial}{\\partial{x_4}} \\\\\n",
        "    &+ \\left[ \\frac{1}{(x_2-x_3)|x_2-x_3|} + \\frac{1}{(x_1-x_2)|x_1-x_2|} \\right]\\frac{\\partial}{\\partial{x_5}} -\\left[ \\frac{1}{(x_2-x_3)|x_2-x_3|} + \\frac{1}{(x_1-x_3)|x_1-x_3|} \\right]\\frac{\\partial}{\\partial{x_6}}.\n",
        "\\end{align}\n",
        "\n",
        "\n",
        "\n",
        "To compute this vector field with `Poisson Geometry` run:"
      ]
    },
    {
      "cell_type": "markdown",
      "source": [
        "`hamiltonian_vf`: compute the Hamiltonian vector field of a scalar function respect to a Poisson bivector field."
      ],
      "metadata": {
        "id": "GMaTE9nK-2cf"
      }
    },
    {
      "cell_type": "code",
      "metadata": {
        "id": "b_lWjl3Ve7hs"
      },
      "source": [
        "# This module is for Python readable printing\n",
        "import pprint\n",
        "pp = pprint.PrettyPrinter(indent=2)\n",
        "\n",
        "# Import the Poisson Geometry class\n",
        "from poisson.poisson import PoissonGeometry\n",
        "pg6 = PoissonGeometry(6)\n",
        "\n",
        "bivector = {(1,4): '1', (2,5): '1', (3,6): '1'}\n",
        "h = '- 1/sqrt((x2 - x1)**2) - 1/sqrt((x3 - x1)**2) - 1/sqrt((x3 - x2)**2) + (1/2) * (x4**2 + x5**2 + x6**2)'\n",
        "\n",
        "# Evaluate the function h with respect to the bivector to compute the Hamiltonian vector field, then print it in Python readable code\n",
        "pp.pprint(pg6.hamiltonian_vf(bivector, h))"
      ],
      "execution_count": null,
      "outputs": []
    },
    {
      "cell_type": "markdown",
      "source": [
        "### Example 4 : Computing a modular vector field"
      ],
      "metadata": {
        "id": "T1E4rBqPD61S"
      }
    },
    {
      "cell_type": "markdown",
      "source": [
        "Consider the following bivector field in $\\mathbf{R}^{4}$,\n",
        "\n",
        "$$\\Pi = 2x_{4}\\frac{\\partial}{\\partial x_1}\\wedge \\frac{\\partial}{\\partial x_3} + 2x_{3} \\frac{\\partial}{\\partial x_1}\\wedge \\frac{\\partial}{\\partial x_4} - 2x_{4} \\frac{\\partial}{\\partial x_2}\\wedge \\frac{\\partial}{\\partial x_3} + 2x_{3} \\frac{\\partial}{\\partial x_2}\\wedge \\frac{\\partial}{\\partial x_4} + (x_{1}-x_{2}) \\frac{\\partial}{\\partial x_3}\\wedge \\frac{\\partial}{\\partial x_4}.$$\n",
        "\n",
        "This bivector Poisson field appears in the analysis of the orbital stability of the Pais-Uhlenbeck oscillator in $\\mathbf{R}^{4}$ (See M. Avendaño-Camacho, J. A. Vallejo and Yu. Vorobiev, A Perturbation Theory Approach to the Stability of the Pais-Uhlenbeck Oscillator, J. Math. Phys. 58, (2017)).\n",
        "\n"
      ],
      "metadata": {
        "id": "ZUcKJzAAEjY6"
      }
    },
    {
      "cell_type": "markdown",
      "source": [
        "`modular_vf`: computes the modular field of $\\Pi$ with respect to a volume form $f\\Omega_{0}$ in $\\mathbf{R}^4$, where $f$ is a nonzero function and $\\Omega_{0}$ is the Euclidean volume form in $\\mathbf{R}^4$."
      ],
      "metadata": {
        "id": "MgXDRI2wEvyQ"
      }
    },
    {
      "cell_type": "code",
      "source": [
        "from poisson.poisson import PoissonGeometry\n",
        "pg4 = PoissonGeometry(4)\n",
        "\n",
        "bivector ={(1,3): '2*x4', (1,4): '2*x3', (2,3): '-2*x4', (2,4): '2*x3', (3,4): 'x1-x2'}\n",
        "\n",
        "# Computing the modular vector field, taking as input the Euclidean volume form\n",
        "pg4.modular_vf(bivector, 1)"
      ],
      "metadata": {
        "id": "T-TxKw4EEvLG"
      },
      "execution_count": null,
      "outputs": []
    },
    {
      "cell_type": "markdown",
      "source": [
        "Therefore, in this case the modular field of $\\Pi$ with respect to the Euclidean volume form is trivial.\n",
        "\n",
        "**Remark**: The second input to the `modular_vf` function, in the last example, can take any real function $f$ to modify the volume shape."
      ],
      "metadata": {
        "id": "YXYM4Ef7FG3D"
      }
    },
    {
      "cell_type": "markdown",
      "source": [
        "`num_modular_vf`: verifies whether an homogeneous Poisson bivector field on $R^{m}$ is modular or not. This can also be verified numerically, with randomly generated meshes."
      ],
      "metadata": {
        "id": "V2wI68iBFsc9"
      }
    },
    {
      "cell_type": "code",
      "source": [
        "from numpoisson.numpoisson import NumPoissonGeometry as npg\n",
        "import numpy\n",
        "\n",
        "npg4 = npg(4, variable=\"x\")\n",
        "\n",
        "M = numpy.random.rand(10**6, 4)\n",
        "\n",
        "npg4.num_modular_vf(bivector, 1, M, torch_output=True)"
      ],
      "metadata": {
        "id": "0aSpjHyVF6B4"
      },
      "execution_count": null,
      "outputs": []
    },
    {
      "cell_type": "markdown",
      "source": [
        "The definition of the modular class of a Poisson variety first appeared in 1985 in the work of Koszul, who did not give it a name.\n",
        "\n",
        "Subsequently, in the work of Weinstein the relation of this notion to the group of modular automorphisms of von Neumann algebras was proved, hence the name he proposed, proved many properties of modular vector fields of Poisson varieties.\n",
        "\n",
        "The modular class of a Poisson variety is the obstacle for the existence of an invariant density under the fluxes of all Hamiltonian vector fields."
      ],
      "metadata": {
        "id": "QHrwXKETGMZy"
      }
    },
    {
      "cell_type": "markdown",
      "source": [
        "### Example 5 : Visualizing Hamiltonian vector fields in 3D"
      ],
      "metadata": {
        "id": "vjrUdgDfGT8f"
      }
    },
    {
      "cell_type": "markdown",
      "source": [
        "Consider the bivector\n",
        "\n",
        "$$\\pi = -x_{3}\\frac{\\partial}{\\partial x_{1}} \\wedge \\frac{\\partial}{\\partial x_{2}} + x_{2}\\frac{\\partial}{\\partial x_{1}} \\wedge \\frac{\\partial}{\\partial x_{2}} + x_{1}\\frac{\\partial}{\\partial x_{3}} \\wedge \\frac{\\partial}{\\partial x_{3}},$$\n",
        "\n",
        "and the smooth function\n",
        "\n",
        "$$h = x_{1} + x_{2} + x_{3},$$\n",
        "\n",
        "to compute the Hamiltonian vector field $X_h$ associated to $h$."
      ],
      "metadata": {
        "id": "YnWiMvOpGVeg"
      }
    },
    {
      "cell_type": "markdown",
      "source": [
        "`hamiltonian_vf`: compute the Hamiltonian vector field of a scalar function respect to a Poisson bivector field."
      ],
      "metadata": {
        "id": "hZ2FjeDRGyko"
      }
    },
    {
      "cell_type": "code",
      "source": [
        "from poisson.poisson import PoissonGeometry\n",
        "pg3 = PoissonGeometry(3, variable='x')\n",
        "\n",
        "pi = {(1,2):'-x3', (1,3):'x2', (2, 3):'x1'}\n",
        "h = \"x1 + x2 + x3\"\n",
        "\n",
        "pg3.hamiltonian_vf(pi, h)"
      ],
      "metadata": {
        "id": "stVHF3bUGzA2"
      },
      "execution_count": null,
      "outputs": []
    },
    {
      "cell_type": "markdown",
      "source": [
        "We obtain the Hamiltonian vector field\n",
        "\n",
        "$$X_{h} = (-x_{2} + x_{3})\\frac{\\partial}{\\partial x_{1}} - (x_{1} + x_{3})\\frac{\\partial}{\\partial x_{2}} + (x_{1} + x_{2})\\frac{\\partial}{\\partial x_{3}} $$\n",
        "\n",
        "Now we evaluate it with a ranodm mesh $M$ to compute its visualization in 3D with `plotly`."
      ],
      "metadata": {
        "id": "Y5jPGHjPG2RU"
      }
    },
    {
      "cell_type": "code",
      "source": [
        "import numpy\n",
        "from numpoisson.numpoisson import NumPoissonGeometry as npg\n",
        "\n",
        "npg3 = npg(3, variable=\"x\")\n",
        "M = numpy.random.rand(10**4, 3)\n",
        "\n",
        "X_h_eval = npg3.num_hamiltonian_vf(pi, h, M)\n",
        "X_h_eval"
      ],
      "metadata": {
        "id": "58CyaTq3G2bL"
      },
      "execution_count": null,
      "outputs": []
    },
    {
      "cell_type": "code",
      "source": [
        "import plotly.graph_objects as go\n",
        "import pandas as pd\n",
        "\n",
        "# Define the values for x,y,z\n",
        "x, y, z = M[:,0], M[:,1], M[:,2]\n",
        "u = numpy.array([i[0] for i in X_h_eval[:,0]])\n",
        "v = numpy.array([i[0] for i in X_h_eval[:,1]])\n",
        "w = numpy.array([i[0] for i in X_h_eval[:,2]])\n",
        "\n",
        "fig = go.Figure(\n",
        "    data=go.Cone(\n",
        "      x = x.tolist(),\n",
        "      y = y.tolist(),\n",
        "      z = z.tolist(),\n",
        "      u = u.tolist(),\n",
        "      v = v.tolist(),\n",
        "      w = w.tolist(),\n",
        "      # Colors can be changed, see link\n",
        "      # https://plotly.com/python/builtin-colorscales/\n",
        "      colorscale='GnBu',\n",
        "      sizemode=\"absolute\",\n",
        "      sizeref=1, # size of cones\n",
        "      anchor=\"tip\"\n",
        "    )\n",
        ")\n",
        "\n",
        "fig.update_layout(\n",
        "    template = \"plotly_dark\",\n",
        "    # title = \"Vector Field X_h_eval\",\n",
        "    height = 1000, # this is the pixel size (px)\n",
        ")\n",
        "fig.show()"
      ],
      "metadata": {
        "id": "JqEKSNeiHEv7"
      },
      "execution_count": null,
      "outputs": []
    },
    {
      "cell_type": "markdown",
      "source": [
        "Finally, let's verify that the bivector is unimodular by running"
      ],
      "metadata": {
        "id": "Sd9ikxrmZgFY"
      }
    },
    {
      "cell_type": "code",
      "source": [
        "pg3.is_unimodular_homogeneous(pi)"
      ],
      "metadata": {
        "id": "8Fx_DB6xZY6W"
      },
      "execution_count": null,
      "outputs": []
    },
    {
      "cell_type": "markdown",
      "source": [
        "Calculate the unimodular field associated with $\\pi$"
      ],
      "metadata": {
        "id": "DGy81wY7aMSb"
      }
    },
    {
      "cell_type": "code",
      "source": [
        "pg3.modular_vf(pi, 1)"
      ],
      "metadata": {
        "id": "_J3MNkj3aFtZ"
      },
      "execution_count": null,
      "outputs": []
    },
    {
      "cell_type": "markdown",
      "source": [
        "Therefore, in this case the modular field of $\\pi$ with respect to the Euclidean volume form is trivial.\n"
      ],
      "metadata": {
        "id": "25fSI2ZPaRd1"
      }
    }
  ]
}